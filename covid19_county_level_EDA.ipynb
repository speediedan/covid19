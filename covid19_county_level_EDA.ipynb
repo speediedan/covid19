{
 "cells": [
  {
   "cell_type": "markdown",
   "metadata": {},
   "source": [
    "# Covid19 County-Level EDA Notebook\n",
    "---\n",
    "> ### [County-Level EDA Notebook](https://github.com/speediedan/covid19/blob/master/covid19_county_level_EDA.ipynb)\n",
    "> * **This notebook can be used for manual EDA of county-level hotspot data**\n",
    "\n",
    "> ### [The \"Real-Time\" County-Level Dashboard](county_covid_explorer.html):\n",
    "> * **A \"real-time\"<sup>[1](#daily-onset-estimation)</sup> county-level dashboard w/ a focus on estimated effective reproduction number (R<sub>t</sub>)<sup>[2](#effective-reproduction-number-estimation)</sup>, 2nd order growth rates and confirmed infection density for most US counties (counties w/ > 0.03% confirmed infection density)**\n",
    "\n",
    "> ### [The \"Real-Time\" Choropleth Dashboard](choropleth_covid_county_explorer.html):\n",
    "> * **State and national choropleths for exploring the geographic distribution of \"real-time\"<sup>[1](#daily-onset-estimation)</sup> county-level R<sub>t</sub><sup>[2](#effective-reproduction-number-estimation)</sup> along with other relevant epidemiological statistics. Due to resource constraints, the national choropleth represents exclusively R<sub>t</sub> data while the state choropleths include additional county-level metrics. The national choropleth can currently be temporally evolved over a 14-day horizon.**\n",
    "\n"
   ]
  },
  {
   "cell_type": "markdown",
   "metadata": {},
   "source": [
    "### Daily Onset Estimation\n",
    "* It's important to be clear that these county-level R<sub>t</sub> estimates are \"real-time\" in the sense that the approach outlined in [(Bettencourt & Ribeiro, 2008)](https://journals.plos.org/plosone/article?id=10.1371/journal.pone.0002185) is used while convolving the latest [onset-confirmed latency distribution](https://github.com/beoutbreakprepared/nCoV2019/tree/master/latest_data) onto daily reported cases (then adjusting for right-censoring) to obtain the estimated daily onset values. The latency between case onset and confirmation/reporting means that significant changes in local conditions still require some time (days) to be fully reflected in the R<sub>t</sub> estimates, but the estimate for a given point in time should improve with each passing day to a degree roughly correlated with the aforementioned onset-delay distribution.\n",
    "\n",
    "### Effective Reproduction Number Estimation\n",
    "   * I've extended [this great notebook](https://github.com/k-sys/covid-19/blob/master/Realtime%20R0.ipynb) to a county-level. \n",
    "   * Importantly, it should be noted that (as of 2020.05.12) access to testing is continuing to increase and test positivity rates are therefore changing at a [substantial rate](https://www.cdc.gov/coronavirus/2019-ncov/covid-data/covidview/index.html). As the testing bias continues to evolve in the near-term, one should recognize that point R<sub>t</sub> estimates will be biased to be higher than ground truth R<sub>t</sub>. There are approaches that can [mitigate this bias to a limited extent](http://freerangestats.info/blog/2020/05/09/covid-population-incidence) but fundamentally, we don't have sufficient data to eliminate the bias at this point so I've deprioritized making those model adjustments at the moment (I may make testing-related adjustments in the future though and PRs are welcome!). Fortunately, as testing access and bias stabilize at a level that increases validity of confirmed case counts, these R<sub>t</sub> estimates should become increasingly accurate. I think we can expect hotspot monitoring tools such as this to have utility for a number of months, so this initial period of testing volatility does not nullify their value.\n",
    "   * The most salient change I've made in the process of the extension is that rather than using a prior of gamma-distributed generation intervals to estimate R (which seems totally reasonable), I'm experimenting with incorporating more locally-relevant information by calculating an R<sub>0</sub> using initial incidence data from each locality.\n",
    "   * For execution environments that are compute-constrained, I've also provided (but left disabled) some performance enhancing functions that cut execution time by about 50% at the cost of ~5% accuracy.\n",
    "   \n",
    "### SEIR Model Notes\n",
    "* #### At the time the SEIR model component of this notebook was written (2020.03.30) there remained significant uncertainty regarding some sars-cov-2 parameters. The data fit varied substantially by county so I used what I perceived (N.B.: w/ no personal epidemiological expertise!!) to be the consensus values, documented below:\n",
    "\n",
    "| Parameter   | Source  | Reference Value     |\n",
    "| :---        | :----:  |     ---:            |\n",
    "| Latent Period   | [Lin et al., 2020](https://www.ijidonline.com/article/S1201-9712(20)30117-X/fulltext) | 3   |\n",
    "| Latent Period   | [Wu et al., 2020](https://www.sciencedirect.com/science/article/pii/S0140673620302609) | 3     |\n",
    "| Latent Period   | [Li et al., 2020](https://www.medrxiv.org/content/10.1101/2020.03.06.20031880v1.full.pdf) | 2 |\n",
    "| Serial Interval | [Nishura et al. 2020](https://www.ijidonline.com/article/S1201-9712(20)30119-3/pdf) | 4.6 |\n",
    "| Serial Interval | [Li et al., 2020](https://www.nejm.org/doi/pdf/10.1056/NEJMoa2001316?articleTools=true) | 7.5 |\n",
    "| Incubation Period | [Li et al., 2020](https://www.nejm.org/doi/pdf/10.1056/NEJMoa2001316?articleTools=true) | 5.2 |\n",
    "| Infectious Period | [Li et al., 2020](https://www.nejm.org/doi/pdf/10.1056/NEJMoa2001316?articleTools=true) | 2.3 |\n",
    "| Infectious Period | [Zhou et al., 2020](https://www.medrxiv.org/content/10.1101/2020.02.24.20026773v1.full.pdf) | 6 |\n",
    "| Infectious Period | [Bi et al., 2020](https://www.medrxiv.org/content/10.1101/2020.03.03.20028423v3) | 1.5\n",
    "| Infectious Period | [Kucharski et al., 2020](https://cmmid.github.io/topics/covid19/current-patterns-transmission/wuhan-early-dynamics.html) | 2.9\n",
    "| Time to Hospitalization | [Huang et al., 2020](https://www.thelancet.com/journals/lancet/article/PIIS0140-6736(20)30183-5/fulltext) | 8\n",
    "| Mean Hospitalization Period | [Wang et al., 2020](https://jamanetwork.com/journals/jama/fullarticle/2761044?guestAccessKey=f61bd430-07d8-4b86-a749-bec05bfffb65) | 12\n",
    "| Hospitalization Rate | [Ferguson et al., 2020](https://spiral.imperial.ac.uk/bitstream/10044/1/77482/5/Imperial%20College%20COVID19%20NPI%20modelling%2016-03-2020.pdf) (weighted by us demo by [Covid Act Now](https://covidactnow.org/model)) | 0.073"
   ]
  },
  {
   "cell_type": "code",
   "execution_count": 12,
   "metadata": {},
   "outputs": [],
   "source": [
    "import os\n",
    "from IPython.core.debugger import set_trace\n",
    "import pandas as pd\n",
    "import c19_analysis.dataprep_utils as covid_utils\n",
    "from c19_analysis.dataprep_flow import build_latest_case_data\n",
    "import config\n",
    "import c19_analysis.dataprep_utils as covid_utils\n",
    "import c19_analysis.bayesian_rt_est as bayes_rt\n",
    "# import c19_analysis.cust_seir_model as cust_seir\n",
    "import dashboard.rt_explorer as rt_explorer\n",
    "import dashboard.choropleth_explorer as choropleth_explorer\n",
    "import dashboard.static_mpl_viz as static_mpl_viz"
   ]
  },
  {
   "cell_type": "code",
   "execution_count": 13,
   "metadata": {},
   "outputs": [
    {
     "name": "stdout",
     "output_type": "stream",
     "text": [
      "No update to case data source, loading core case data from cache\n"
     ]
    }
   ],
   "source": [
    "# Build/Update Core Case Data\n",
    "usafacts_delta_df, updated = build_latest_case_data()"
   ]
  },
  {
   "cell_type": "code",
   "execution_count": 14,
   "metadata": {},
   "outputs": [
    {
     "name": "stdout",
     "output_type": "stream",
     "text": [
      "No update to core case data, loaded Rt estimates from cache\n"
     ]
    }
   ],
   "source": [
    "# Update Effective R Estimates\n",
    "# Bayesian Rt Estimation\n",
    "rt_df = bayes_rt.gen_rt_df(usafacts_delta_df)"
   ]
  },
  {
   "cell_type": "code",
   "execution_count": 15,
   "metadata": {},
   "outputs": [],
   "source": [
    "# The applicable scope of this particular SEIR model was only the initial, exponential stage of the outbreak and remains here for reference only.\n",
    "# cust_seir.gen_seir_viz(rt_df)"
   ]
  },
  {
   "cell_type": "code",
   "execution_count": 16,
   "metadata": {},
   "outputs": [],
   "source": [
    "# Prepare dataframes necessary for downstream dashboard generation\n",
    "# rt_df = core rt_explorer dataframe source\n",
    "# viz_df_instances = used to generate temporal evolution of national choropleth\n",
    "# status_df = rt_explorer table dataframe source\n",
    "# county_date_instances: list of dates for which to generate national choropleth\n",
    "rt_df, viz_df_instances, status_df, county_date_instances = covid_utils.prep_dashboard_dfs(rt_df)"
   ]
  },
  {
   "cell_type": "code",
   "execution_count": 7,
   "metadata": {},
   "outputs": [
    {
     "data": {
      "text/html": [
       "<style  type=\"text/css\" >\n",
       "    #T_b1dd0774_a05e_11ea_8fff_e0d55ea3e10crow0_col12 {\n",
       "            color:  red;\n",
       "        }    #T_b1dd0774_a05e_11ea_8fff_e0d55ea3e10crow1_col12 {\n",
       "            color:  red;\n",
       "        }    #T_b1dd0774_a05e_11ea_8fff_e0d55ea3e10crow2_col12 {\n",
       "            color:  red;\n",
       "        }    #T_b1dd0774_a05e_11ea_8fff_e0d55ea3e10crow3_col12 {\n",
       "            color:  red;\n",
       "        }    #T_b1dd0774_a05e_11ea_8fff_e0d55ea3e10crow4_col12 {\n",
       "            color:  red;\n",
       "        }</style><table id=\"T_b1dd0774_a05e_11ea_8fff_e0d55ea3e10c\" ><thead>    <tr>        <th class=\"blank\" ></th>        <th class=\"blank\" ></th>        <th class=\"blank\" ></th>        <th class=\"blank\" ></th>        <th class=\"blank level0\" ></th>        <th class=\"col_heading level0 col0\" >Estimated Onset Cases</th>        <th class=\"col_heading level0 col1\" >Total Estimated Cases</th>        <th class=\"col_heading level0 col2\" >node_start_dt</th>        <th class=\"col_heading level0 col3\" >daily new cases ma</th>        <th class=\"col_heading level0 col4\" >Confirmed New Cases</th>        <th class=\"col_heading level0 col5\" >growth_rate</th>        <th class=\"col_heading level0 col6\" >growth_period_n</th>        <th class=\"col_heading level0 col7\" >growth_period_n-1</th>        <th class=\"col_heading level0 col8\" >2nd_order_growth</th>        <th class=\"col_heading level0 col9\" >Rt</th>        <th class=\"col_heading level0 col10\" >90_CrI_LB</th>        <th class=\"col_heading level0 col11\" >90_CrI_UB</th>        <th class=\"col_heading level0 col12\" >confirmed %infected</th>    </tr>    <tr>        <th class=\"index_name level0\" >id</th>        <th class=\"index_name level1\" >estimated_pop</th>        <th class=\"index_name level2\" >name</th>        <th class=\"index_name level3\" >stateAbbr</th>        <th class=\"index_name level4\" >Date</th>        <th class=\"blank\" ></th>        <th class=\"blank\" ></th>        <th class=\"blank\" ></th>        <th class=\"blank\" ></th>        <th class=\"blank\" ></th>        <th class=\"blank\" ></th>        <th class=\"blank\" ></th>        <th class=\"blank\" ></th>        <th class=\"blank\" ></th>        <th class=\"blank\" ></th>        <th class=\"blank\" ></th>        <th class=\"blank\" ></th>        <th class=\"blank\" ></th>    </tr></thead><tbody>\n",
       "                <tr>\n",
       "                        <th id=\"T_b1dd0774_a05e_11ea_8fff_e0d55ea3e10clevel0_row0\" class=\"row_heading level0 row0\" >47169</th>\n",
       "                        <th id=\"T_b1dd0774_a05e_11ea_8fff_e0d55ea3e10clevel1_row0\" class=\"row_heading level1 row0\" >11012</th>\n",
       "                        <th id=\"T_b1dd0774_a05e_11ea_8fff_e0d55ea3e10clevel2_row0\" class=\"row_heading level2 row0\" >Trousdale County, TN</th>\n",
       "                        <th id=\"T_b1dd0774_a05e_11ea_8fff_e0d55ea3e10clevel3_row0\" class=\"row_heading level3 row0\" >TN</th>\n",
       "                        <th id=\"T_b1dd0774_a05e_11ea_8fff_e0d55ea3e10clevel4_row0\" class=\"row_heading level4 row0\" >2020-05-26 00:00:00</th>\n",
       "                        <td id=\"T_b1dd0774_a05e_11ea_8fff_e0d55ea3e10crow0_col0\" class=\"data row0 col0\" >0</td>\n",
       "                        <td id=\"T_b1dd0774_a05e_11ea_8fff_e0d55ea3e10crow0_col1\" class=\"data row0 col1\" >1405</td>\n",
       "                        <td id=\"T_b1dd0774_a05e_11ea_8fff_e0d55ea3e10crow0_col2\" class=\"data row0 col2\" >2020-03-13 00:00:00</td>\n",
       "                        <td id=\"T_b1dd0774_a05e_11ea_8fff_e0d55ea3e10crow0_col3\" class=\"data row0 col3\" >1</td>\n",
       "                        <td id=\"T_b1dd0774_a05e_11ea_8fff_e0d55ea3e10crow0_col4\" class=\"data row0 col4\" >0</td>\n",
       "                        <td id=\"T_b1dd0774_a05e_11ea_8fff_e0d55ea3e10crow0_col5\" class=\"data row0 col5\" >0</td>\n",
       "                        <td id=\"T_b1dd0774_a05e_11ea_8fff_e0d55ea3e10crow0_col6\" class=\"data row0 col6\" >0.0007</td>\n",
       "                        <td id=\"T_b1dd0774_a05e_11ea_8fff_e0d55ea3e10crow0_col7\" class=\"data row0 col7\" >0.000875</td>\n",
       "                        <td id=\"T_b1dd0774_a05e_11ea_8fff_e0d55ea3e10crow0_col8\" class=\"data row0 col8\" >-0.2</td>\n",
       "                        <td id=\"T_b1dd0774_a05e_11ea_8fff_e0d55ea3e10crow0_col9\" class=\"data row0 col9\" >0.4</td>\n",
       "                        <td id=\"T_b1dd0774_a05e_11ea_8fff_e0d55ea3e10crow0_col10\" class=\"data row0 col10\" >0</td>\n",
       "                        <td id=\"T_b1dd0774_a05e_11ea_8fff_e0d55ea3e10crow0_col11\" class=\"data row0 col11\" >1.23</td>\n",
       "                        <td id=\"T_b1dd0774_a05e_11ea_8fff_e0d55ea3e10crow0_col12\" class=\"data row0 col12\" >12.76</td>\n",
       "            </tr>\n",
       "            <tr>\n",
       "                        <th id=\"T_b1dd0774_a05e_11ea_8fff_e0d55ea3e10clevel0_row1\" class=\"row_heading level0 row1\" >31043</th>\n",
       "                        <th id=\"T_b1dd0774_a05e_11ea_8fff_e0d55ea3e10clevel1_row1\" class=\"row_heading level1 row1\" >20083</th>\n",
       "                        <th id=\"T_b1dd0774_a05e_11ea_8fff_e0d55ea3e10clevel2_row1\" class=\"row_heading level2 row1\" >Dakota County, NE</th>\n",
       "                        <th id=\"T_b1dd0774_a05e_11ea_8fff_e0d55ea3e10clevel3_row1\" class=\"row_heading level3 row1\" >NE</th>\n",
       "                        <th id=\"T_b1dd0774_a05e_11ea_8fff_e0d55ea3e10clevel4_row1\" class=\"row_heading level4 row1\" >2020-05-26 00:00:00</th>\n",
       "                        <td id=\"T_b1dd0774_a05e_11ea_8fff_e0d55ea3e10crow1_col0\" class=\"data row1 col0\" >27</td>\n",
       "                        <td id=\"T_b1dd0774_a05e_11ea_8fff_e0d55ea3e10crow1_col1\" class=\"data row1 col1\" >1750</td>\n",
       "                        <td id=\"T_b1dd0774_a05e_11ea_8fff_e0d55ea3e10crow1_col2\" class=\"data row1 col2\" >2020-03-14 00:00:00</td>\n",
       "                        <td id=\"T_b1dd0774_a05e_11ea_8fff_e0d55ea3e10crow1_col3\" class=\"data row1 col3\" >20</td>\n",
       "                        <td id=\"T_b1dd0774_a05e_11ea_8fff_e0d55ea3e10crow1_col4\" class=\"data row1 col4\" >27</td>\n",
       "                        <td id=\"T_b1dd0774_a05e_11ea_8fff_e0d55ea3e10crow1_col5\" class=\"data row1 col5\" >0.0157</td>\n",
       "                        <td id=\"T_b1dd0774_a05e_11ea_8fff_e0d55ea3e10crow1_col6\" class=\"data row1 col6\" >0.011925</td>\n",
       "                        <td id=\"T_b1dd0774_a05e_11ea_8fff_e0d55ea3e10crow1_col7\" class=\"data row1 col7\" >0.01595</td>\n",
       "                        <td id=\"T_b1dd0774_a05e_11ea_8fff_e0d55ea3e10crow1_col8\" class=\"data row1 col8\" >-0.2524</td>\n",
       "                        <td id=\"T_b1dd0774_a05e_11ea_8fff_e0d55ea3e10crow1_col9\" class=\"data row1 col9\" >0.91</td>\n",
       "                        <td id=\"T_b1dd0774_a05e_11ea_8fff_e0d55ea3e10crow1_col10\" class=\"data row1 col10\" >0.46</td>\n",
       "                        <td id=\"T_b1dd0774_a05e_11ea_8fff_e0d55ea3e10crow1_col11\" class=\"data row1 col11\" >1.27</td>\n",
       "                        <td id=\"T_b1dd0774_a05e_11ea_8fff_e0d55ea3e10crow1_col12\" class=\"data row1 col12\" >8.71</td>\n",
       "            </tr>\n",
       "            <tr>\n",
       "                        <th id=\"T_b1dd0774_a05e_11ea_8fff_e0d55ea3e10clevel0_row2\" class=\"row_heading level0 row2\" >5079</th>\n",
       "                        <th id=\"T_b1dd0774_a05e_11ea_8fff_e0d55ea3e10clevel1_row2\" class=\"row_heading level1 row2\" >13383</th>\n",
       "                        <th id=\"T_b1dd0774_a05e_11ea_8fff_e0d55ea3e10clevel2_row2\" class=\"row_heading level2 row2\" >Lincoln County, AR</th>\n",
       "                        <th id=\"T_b1dd0774_a05e_11ea_8fff_e0d55ea3e10clevel3_row2\" class=\"row_heading level3 row2\" >AR</th>\n",
       "                        <th id=\"T_b1dd0774_a05e_11ea_8fff_e0d55ea3e10clevel4_row2\" class=\"row_heading level4 row2\" >2020-05-26 00:00:00</th>\n",
       "                        <td id=\"T_b1dd0774_a05e_11ea_8fff_e0d55ea3e10crow2_col0\" class=\"data row2 col0\" >0</td>\n",
       "                        <td id=\"T_b1dd0774_a05e_11ea_8fff_e0d55ea3e10crow2_col1\" class=\"data row2 col1\" >987</td>\n",
       "                        <td id=\"T_b1dd0774_a05e_11ea_8fff_e0d55ea3e10crow2_col2\" class=\"data row2 col2\" >2020-03-07 00:00:00</td>\n",
       "                        <td id=\"T_b1dd0774_a05e_11ea_8fff_e0d55ea3e10crow2_col3\" class=\"data row2 col3\" >2</td>\n",
       "                        <td id=\"T_b1dd0774_a05e_11ea_8fff_e0d55ea3e10crow2_col4\" class=\"data row2 col4\" >0</td>\n",
       "                        <td id=\"T_b1dd0774_a05e_11ea_8fff_e0d55ea3e10crow2_col5\" class=\"data row2 col5\" >0</td>\n",
       "                        <td id=\"T_b1dd0774_a05e_11ea_8fff_e0d55ea3e10crow2_col6\" class=\"data row2 col6\" >0.00205</td>\n",
       "                        <td id=\"T_b1dd0774_a05e_11ea_8fff_e0d55ea3e10crow2_col7\" class=\"data row2 col7\" >0.001</td>\n",
       "                        <td id=\"T_b1dd0774_a05e_11ea_8fff_e0d55ea3e10crow2_col8\" class=\"data row2 col8\" >1.05</td>\n",
       "                        <td id=\"T_b1dd0774_a05e_11ea_8fff_e0d55ea3e10crow2_col9\" class=\"data row2 col9\" >0.77</td>\n",
       "                        <td id=\"T_b1dd0774_a05e_11ea_8fff_e0d55ea3e10crow2_col10\" class=\"data row2 col10\" >0.05</td>\n",
       "                        <td id=\"T_b1dd0774_a05e_11ea_8fff_e0d55ea3e10crow2_col11\" class=\"data row2 col11\" >1.44</td>\n",
       "                        <td id=\"T_b1dd0774_a05e_11ea_8fff_e0d55ea3e10crow2_col12\" class=\"data row2 col12\" >7.38</td>\n",
       "            </tr>\n",
       "            <tr>\n",
       "                        <th id=\"T_b1dd0774_a05e_11ea_8fff_e0d55ea3e10clevel0_row3\" class=\"row_heading level0 row3\" >27105</th>\n",
       "                        <th id=\"T_b1dd0774_a05e_11ea_8fff_e0d55ea3e10clevel1_row3\" class=\"row_heading level1 row3\" >21924</th>\n",
       "                        <th id=\"T_b1dd0774_a05e_11ea_8fff_e0d55ea3e10clevel2_row3\" class=\"row_heading level2 row3\" >Nobles County, MN</th>\n",
       "                        <th id=\"T_b1dd0774_a05e_11ea_8fff_e0d55ea3e10clevel3_row3\" class=\"row_heading level3 row3\" >MN</th>\n",
       "                        <th id=\"T_b1dd0774_a05e_11ea_8fff_e0d55ea3e10clevel4_row3\" class=\"row_heading level4 row3\" >2020-05-26 00:00:00</th>\n",
       "                        <td id=\"T_b1dd0774_a05e_11ea_8fff_e0d55ea3e10crow3_col0\" class=\"data row3 col0\" >9</td>\n",
       "                        <td id=\"T_b1dd0774_a05e_11ea_8fff_e0d55ea3e10crow3_col1\" class=\"data row3 col1\" >1541</td>\n",
       "                        <td id=\"T_b1dd0774_a05e_11ea_8fff_e0d55ea3e10crow3_col2\" class=\"data row3 col2\" >2020-03-13 00:00:00</td>\n",
       "                        <td id=\"T_b1dd0774_a05e_11ea_8fff_e0d55ea3e10crow3_col3\" class=\"data row3 col3\" >11</td>\n",
       "                        <td id=\"T_b1dd0774_a05e_11ea_8fff_e0d55ea3e10crow3_col4\" class=\"data row3 col4\" >9</td>\n",
       "                        <td id=\"T_b1dd0774_a05e_11ea_8fff_e0d55ea3e10crow3_col5\" class=\"data row3 col5\" >0.0059</td>\n",
       "                        <td id=\"T_b1dd0774_a05e_11ea_8fff_e0d55ea3e10crow3_col6\" class=\"data row3 col6\" >0.00725</td>\n",
       "                        <td id=\"T_b1dd0774_a05e_11ea_8fff_e0d55ea3e10crow3_col7\" class=\"data row3 col7\" >0.00835</td>\n",
       "                        <td id=\"T_b1dd0774_a05e_11ea_8fff_e0d55ea3e10crow3_col8\" class=\"data row3 col8\" >-0.1317</td>\n",
       "                        <td id=\"T_b1dd0774_a05e_11ea_8fff_e0d55ea3e10crow3_col9\" class=\"data row3 col9\" >0.89</td>\n",
       "                        <td id=\"T_b1dd0774_a05e_11ea_8fff_e0d55ea3e10crow3_col10\" class=\"data row3 col10\" >0.39</td>\n",
       "                        <td id=\"T_b1dd0774_a05e_11ea_8fff_e0d55ea3e10crow3_col11\" class=\"data row3 col11\" >1.36</td>\n",
       "                        <td id=\"T_b1dd0774_a05e_11ea_8fff_e0d55ea3e10crow3_col12\" class=\"data row3 col12\" >7.03</td>\n",
       "            </tr>\n",
       "            <tr>\n",
       "                        <th id=\"T_b1dd0774_a05e_11ea_8fff_e0d55ea3e10clevel0_row4\" class=\"row_heading level0 row4\" >31037</th>\n",
       "                        <th id=\"T_b1dd0774_a05e_11ea_8fff_e0d55ea3e10clevel1_row4\" class=\"row_heading level1 row4\" >10881</th>\n",
       "                        <th id=\"T_b1dd0774_a05e_11ea_8fff_e0d55ea3e10clevel2_row4\" class=\"row_heading level2 row4\" >Colfax County, NE</th>\n",
       "                        <th id=\"T_b1dd0774_a05e_11ea_8fff_e0d55ea3e10clevel3_row4\" class=\"row_heading level3 row4\" >NE</th>\n",
       "                        <th id=\"T_b1dd0774_a05e_11ea_8fff_e0d55ea3e10clevel4_row4\" class=\"row_heading level4 row4\" >2020-05-26 00:00:00</th>\n",
       "                        <td id=\"T_b1dd0774_a05e_11ea_8fff_e0d55ea3e10crow4_col0\" class=\"data row4 col0\" >2</td>\n",
       "                        <td id=\"T_b1dd0774_a05e_11ea_8fff_e0d55ea3e10crow4_col1\" class=\"data row4 col1\" >642</td>\n",
       "                        <td id=\"T_b1dd0774_a05e_11ea_8fff_e0d55ea3e10crow4_col2\" class=\"data row4 col2\" >2020-03-24 00:00:00</td>\n",
       "                        <td id=\"T_b1dd0774_a05e_11ea_8fff_e0d55ea3e10crow4_col3\" class=\"data row4 col3\" >5</td>\n",
       "                        <td id=\"T_b1dd0774_a05e_11ea_8fff_e0d55ea3e10crow4_col4\" class=\"data row4 col4\" >2</td>\n",
       "                        <td id=\"T_b1dd0774_a05e_11ea_8fff_e0d55ea3e10crow4_col5\" class=\"data row4 col5\" >0.0031</td>\n",
       "                        <td id=\"T_b1dd0774_a05e_11ea_8fff_e0d55ea3e10crow4_col6\" class=\"data row4 col6\" >0.00795</td>\n",
       "                        <td id=\"T_b1dd0774_a05e_11ea_8fff_e0d55ea3e10crow4_col7\" class=\"data row4 col7\" >0.016775</td>\n",
       "                        <td id=\"T_b1dd0774_a05e_11ea_8fff_e0d55ea3e10crow4_col8\" class=\"data row4 col8\" >-0.5261</td>\n",
       "                        <td id=\"T_b1dd0774_a05e_11ea_8fff_e0d55ea3e10crow4_col9\" class=\"data row4 col9\" >0.73</td>\n",
       "                        <td id=\"T_b1dd0774_a05e_11ea_8fff_e0d55ea3e10crow4_col10\" class=\"data row4 col10\" >0.14</td>\n",
       "                        <td id=\"T_b1dd0774_a05e_11ea_8fff_e0d55ea3e10crow4_col11\" class=\"data row4 col11\" >1.22</td>\n",
       "                        <td id=\"T_b1dd0774_a05e_11ea_8fff_e0d55ea3e10crow4_col12\" class=\"data row4 col12\" >5.9</td>\n",
       "            </tr>\n",
       "    </tbody></table>"
      ],
      "text/plain": [
       "<pandas.io.formats.style.Styler at 0x7fdb1a6e7290>"
      ]
     },
     "metadata": {},
     "output_type": "display_data"
    }
   ],
   "source": [
    "# feel free to explore the data using the dataframes generated above\n",
    "# e.g.:\n",
    "# view 5 largest confirmed % infected\n",
    "s = status_df.nlargest(5, 'confirmed %infected')\n",
    "s = s.style.apply(covid_utils.color_mask, subset=['confirmed %infected'], thresh=0.9)\n",
    "display(s)"
   ]
  }
 ],
 "metadata": {
  "kernelspec": {
   "display_name": "Python 3",
   "language": "python",
   "name": "python3"
  },
  "language_info": {
   "codemirror_mode": {
    "name": "ipython",
    "version": 3
   },
   "file_extension": ".py",
   "mimetype": "text/x-python",
   "name": "python",
   "nbconvert_exporter": "python",
   "pygments_lexer": "ipython3",
   "version": "3.7.6"
  }
 },
 "nbformat": 4,
 "nbformat_minor": 4
}
